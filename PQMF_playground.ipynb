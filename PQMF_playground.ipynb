{
 "cells": [
  {
   "cell_type": "markdown",
   "id": "517644d9",
   "metadata": {},
   "source": [
    "# Imports"
   ]
  },
  {
   "cell_type": "code",
   "execution_count": null,
   "id": "3dc01250",
   "metadata": {},
   "outputs": [],
   "source": [
    "# imports from external libraries\n",
    "import torch\n",
    "import torch.nn as nn\n",
    "from torch import pi\n",
    "import IPython.display as ipd\n",
    "import plotly.graph_objects as go\n",
    "import plotly\n",
    "\n",
    "# imports from project\n",
    "from pqmf import PseudoQMFBanks"
   ]
  },
  {
   "cell_type": "markdown",
   "id": "099d13d8",
   "metadata": {},
   "source": [
    "# Example 1: Chirp PQMF analysis and synthesis"
   ]
  },
  {
   "cell_type": "markdown",
   "id": "ae2e7ccf",
   "metadata": {},
   "source": [
    "## You can try your own parameters !"
   ]
  },
  {
   "cell_type": "code",
   "execution_count": null,
   "id": "53b236f8",
   "metadata": {},
   "outputs": [],
   "source": [
    "PQMF_BANDS = 6\n",
    "PQMF_KS = 48 # must be divisible by 4 * PQMF_BANDS\n",
    "\n",
    "MAX_FREQ = 8000 #Hz\n",
    "DURATION = 3 # seconds\n",
    "SR=16000 # Hz"
   ]
  },
  {
   "cell_type": "code",
   "execution_count": null,
   "id": "f3f8875e",
   "metadata": {},
   "outputs": [],
   "source": [
    "# pqmf instance\n",
    "pqmf = PseudoQMFBanks(decimation=PQMF_BANDS, kernel_size=PQMF_KS)\n",
    "\n",
    "# chirp instance\n",
    "chirp = torch.sin(pi*torch.linspace(start=0,end=MAX_FREQ,steps=SR*DURATION)*torch.linspace(0,DURATION,SR*DURATION)) # sin(πft)\n",
    "chirp = chirp.unsqueeze(0).unsqueeze(0) # torch formalism: (batch_size,channels,time_len)\n",
    "chirp = pqmf.cut_tensor(chirp) # avoid non-matching shapes between original and recomposed signals\n",
    "ipd.Audio(chirp.squeeze(), rate=SR) #play audio"
   ]
  },
  {
   "cell_type": "markdown",
   "id": "6cc602db",
   "metadata": {},
   "source": [
    "## Computations"
   ]
  },
  {
   "cell_type": "code",
   "execution_count": null,
   "id": "7dfc2bf7",
   "metadata": {},
   "outputs": [],
   "source": [
    "chirp_decomposed = pqmf(chirp, \"analysis\")\n",
    "chirp_recomposed = torch.sum(pqmf(chirp_decomposed, \"synthesis\"), 1, keepdim=True)"
   ]
  },
  {
   "cell_type": "markdown",
   "id": "aceb6765",
   "metadata": {},
   "source": [
    "## Shapes and Signal Noise Ratio"
   ]
  },
  {
   "cell_type": "code",
   "execution_count": null,
   "id": "c2e9ec9f",
   "metadata": {},
   "outputs": [],
   "source": [
    "print(f'Original chirp length: {chirp.shape[2]} with {chirp.shape[1]} channel') \n",
    "print(f'Decomposed chirp length: {chirp_decomposed.shape[2]} with {chirp_decomposed.shape[1]} channels')\n",
    "print(f'Recomposed chirp length: {chirp_recomposed.shape[2]} with {chirp.shape[1]} channel')\n",
    "print(f'SNR of chirp_recomposed: {10*torch.log10((chirp_recomposed**2).mean()/((chirp-chirp_recomposed)**2).mean()).item():.2f}dB')\n"
   ]
  },
  {
   "cell_type": "markdown",
   "id": "bbd4e093",
   "metadata": {},
   "source": [
    "## Visualization"
   ]
  },
  {
   "cell_type": "code",
   "execution_count": null,
   "id": "60fc719c",
   "metadata": {},
   "outputs": [],
   "source": [
    "fig = go.Figure()\n",
    "time = torch.linspace(0, DURATION, SR*DURATION)\n",
    "\n",
    "# Trace signals\n",
    "fig.add_trace(go.Scatter(x=time, y=chirp.squeeze(),name='Original chirp'))\n",
    "fig.add_trace(go.Scatter(x=time, y=chirp_recomposed.squeeze(),name='Recomposed chirp'))\n",
    "\n",
    "# Trace bands\n",
    "for band in range(PQMF_BANDS):\n",
    "    fig.add_trace(go.Scatter(x=time[::PQMF_BANDS], y=chirp_decomposed[0,band,:]+3*band+3,name=f'band_{1+band}'))\n",
    "\n",
    "\n",
    "fig.update_layout(\n",
    "    title={'text': (f\"\"\"Temporal representation <br><sup>To align all signals in time domain, bands are dilated by a factor {PQMF_BANDS} </sup>\"\"\"),'y':0.9,'x':0.45,'xanchor': 'center','yanchor': 'top'},\n",
    "    font=dict(family='Latin Modern Roman', size=18),\n",
    "    paper_bgcolor='rgba(0,0,0,0)',\n",
    "    xaxis=dict(title='Time (seconds)',titlefont=dict(family='Latin Modern Roman', size=18)),\n",
    "    yaxis=dict(title='Amplitude',titlefont=dict(family='Latin Modern Roman', size=18)))\n",
    "\n",
    "fig.update_yaxes(tickmode='array',ticktext=['signal']+[f'band_{i+1}' for i in range(PQMF_BANDS)], tickvals=[3*i for i in range(PQMF_BANDS+1)])\n",
    "\n",
    "\n",
    "fig.show()"
   ]
  },
  {
   "cell_type": "code",
   "execution_count": null,
   "id": "2d3dff86",
   "metadata": {},
   "outputs": [],
   "source": []
  }
 ],
 "metadata": {
  "kernelspec": {
   "display_name": "Python 3 (ipykernel)",
   "language": "python",
   "name": "python3"
  },
  "language_info": {
   "codemirror_mode": {
    "name": "ipython",
    "version": 3
   },
   "file_extension": ".py",
   "mimetype": "text/x-python",
   "name": "python",
   "nbconvert_exporter": "python",
   "pygments_lexer": "ipython3",
   "version": "3.10.6"
  }
 },
 "nbformat": 4,
 "nbformat_minor": 5
}
